{
 "cells": [
  {
   "cell_type": "markdown",
   "metadata": {},
   "source": [
    "##                                                 Course - Healthcare Analytics\n",
    "##                                                 Homework# -  I\n",
    "##                                                 Author : Harinadh Appidi "
   ]
  },
  {
   "cell_type": "markdown",
   "metadata": {},
   "source": [
    "#### Abstract :\n",
    "    Heart Disease Data Set contains 76 attributes, but all published experiments refer to using a subset of 14 of them. In particular, the Cleveland database is the only one that has been used by ML researchers to this date. The “goal” field refers to the presence of heart disease in the patient. It is integer valued from 0 (no presence) to 4. Experiments with the Cleveland database have concentrated on simply attempting to distinguish presence (values 1,2,3,4) from absence (value 0). Therefore, this problem can be modelled as binary classification problem."
   ]
  },
  {
   "cell_type": "markdown",
   "metadata": {},
   "source": [
    "#### Dataset Link :\n",
    "    https://archive.ics.uci.edu/ml/datasets/Heart+Disease"
   ]
  },
  {
   "cell_type": "code",
   "execution_count": 1,
   "metadata": {},
   "outputs": [],
   "source": [
    "import matplotlib.pyplot as plt\n",
    "import pandas as pd\n",
    "import numpy as np\n",
    "from Main import *\n",
    "import seaborn as sns\n",
    "%matplotlib inline"
   ]
  },
  {
   "cell_type": "code",
   "execution_count": 2,
   "metadata": {},
   "outputs": [],
   "source": [
    "data = pd.read_csv('processed.cleveland.data', header=None)\n",
    "h1 = HeartDiseasePrediction(data)\n"
   ]
  },
  {
   "cell_type": "code",
   "execution_count": 3,
   "metadata": {},
   "outputs": [],
   "source": [
    "# Naming the columns and labeling categorical and numerical columns\n",
    "h1.prepare_data()\n"
   ]
  },
  {
   "cell_type": "code",
   "execution_count": 4,
   "metadata": {},
   "outputs": [
    {
     "data": {
      "text/html": [
       "<div>\n",
       "<style scoped>\n",
       "    .dataframe tbody tr th:only-of-type {\n",
       "        vertical-align: middle;\n",
       "    }\n",
       "\n",
       "    .dataframe tbody tr th {\n",
       "        vertical-align: top;\n",
       "    }\n",
       "\n",
       "    .dataframe thead th {\n",
       "        text-align: right;\n",
       "    }\n",
       "</style>\n",
       "<table border=\"1\" class=\"dataframe\">\n",
       "  <thead>\n",
       "    <tr style=\"text-align: right;\">\n",
       "      <th></th>\n",
       "      <th>age</th>\n",
       "      <th>sex</th>\n",
       "      <th>cp</th>\n",
       "      <th>trestbps</th>\n",
       "      <th>chol</th>\n",
       "      <th>fbs</th>\n",
       "      <th>restecg</th>\n",
       "      <th>thalach</th>\n",
       "      <th>exang</th>\n",
       "      <th>oldpeak</th>\n",
       "      <th>slope</th>\n",
       "      <th>ca</th>\n",
       "      <th>thal</th>\n",
       "      <th>heart_failure</th>\n",
       "    </tr>\n",
       "  </thead>\n",
       "  <tbody>\n",
       "    <tr>\n",
       "      <th>0</th>\n",
       "      <td>63.0</td>\n",
       "      <td>1.0</td>\n",
       "      <td>1.0</td>\n",
       "      <td>145.0</td>\n",
       "      <td>233.0</td>\n",
       "      <td>1.0</td>\n",
       "      <td>2.0</td>\n",
       "      <td>150.0</td>\n",
       "      <td>0.0</td>\n",
       "      <td>2.3</td>\n",
       "      <td>3.0</td>\n",
       "      <td>0.0</td>\n",
       "      <td>6.0</td>\n",
       "      <td>0</td>\n",
       "    </tr>\n",
       "    <tr>\n",
       "      <th>1</th>\n",
       "      <td>67.0</td>\n",
       "      <td>1.0</td>\n",
       "      <td>4.0</td>\n",
       "      <td>160.0</td>\n",
       "      <td>286.0</td>\n",
       "      <td>0.0</td>\n",
       "      <td>2.0</td>\n",
       "      <td>108.0</td>\n",
       "      <td>1.0</td>\n",
       "      <td>1.5</td>\n",
       "      <td>2.0</td>\n",
       "      <td>3.0</td>\n",
       "      <td>3.0</td>\n",
       "      <td>1</td>\n",
       "    </tr>\n",
       "    <tr>\n",
       "      <th>2</th>\n",
       "      <td>67.0</td>\n",
       "      <td>1.0</td>\n",
       "      <td>4.0</td>\n",
       "      <td>120.0</td>\n",
       "      <td>229.0</td>\n",
       "      <td>0.0</td>\n",
       "      <td>2.0</td>\n",
       "      <td>129.0</td>\n",
       "      <td>1.0</td>\n",
       "      <td>2.6</td>\n",
       "      <td>2.0</td>\n",
       "      <td>2.0</td>\n",
       "      <td>7.0</td>\n",
       "      <td>1</td>\n",
       "    </tr>\n",
       "    <tr>\n",
       "      <th>3</th>\n",
       "      <td>37.0</td>\n",
       "      <td>1.0</td>\n",
       "      <td>3.0</td>\n",
       "      <td>130.0</td>\n",
       "      <td>250.0</td>\n",
       "      <td>0.0</td>\n",
       "      <td>0.0</td>\n",
       "      <td>187.0</td>\n",
       "      <td>0.0</td>\n",
       "      <td>3.5</td>\n",
       "      <td>3.0</td>\n",
       "      <td>0.0</td>\n",
       "      <td>3.0</td>\n",
       "      <td>0</td>\n",
       "    </tr>\n",
       "    <tr>\n",
       "      <th>4</th>\n",
       "      <td>41.0</td>\n",
       "      <td>0.0</td>\n",
       "      <td>2.0</td>\n",
       "      <td>130.0</td>\n",
       "      <td>204.0</td>\n",
       "      <td>0.0</td>\n",
       "      <td>2.0</td>\n",
       "      <td>172.0</td>\n",
       "      <td>0.0</td>\n",
       "      <td>1.4</td>\n",
       "      <td>1.0</td>\n",
       "      <td>0.0</td>\n",
       "      <td>3.0</td>\n",
       "      <td>0</td>\n",
       "    </tr>\n",
       "  </tbody>\n",
       "</table>\n",
       "</div>"
      ],
      "text/plain": [
       "    age  sex   cp  trestbps   chol  fbs restecg  thalach exang  oldpeak slope  \\\n",
       "0  63.0  1.0  1.0     145.0  233.0  1.0     2.0    150.0   0.0      2.3   3.0   \n",
       "1  67.0  1.0  4.0     160.0  286.0  0.0     2.0    108.0   1.0      1.5   2.0   \n",
       "2  67.0  1.0  4.0     120.0  229.0  0.0     2.0    129.0   1.0      2.6   2.0   \n",
       "3  37.0  1.0  3.0     130.0  250.0  0.0     0.0    187.0   0.0      3.5   3.0   \n",
       "4  41.0  0.0  2.0     130.0  204.0  0.0     2.0    172.0   0.0      1.4   1.0   \n",
       "\n",
       "    ca thal heart_failure  \n",
       "0  0.0  6.0             0  \n",
       "1  3.0  3.0             1  \n",
       "2  2.0  7.0             1  \n",
       "3  0.0  3.0             0  \n",
       "4  0.0  3.0             0  "
      ]
     },
     "execution_count": 4,
     "metadata": {},
     "output_type": "execute_result"
    }
   ],
   "source": [
    "h1.data.head()"
   ]
  },
  {
   "cell_type": "code",
   "execution_count": 5,
   "metadata": {},
   "outputs": [
    {
     "data": {
      "text/plain": [
       "<AxesSubplot:xlabel='heart_failure', ylabel='count'>"
      ]
     },
     "execution_count": 5,
     "metadata": {},
     "output_type": "execute_result"
    },
    {
     "data": {
      "image/png": "[encoded data removed]",
      "text/plain": [
       "<Figure size 432x288 with 1 Axes>"
      ]
     },
     "metadata": {
      "needs_background": "light"
     },
     "output_type": "display_data"
    }
   ],
   "source": [
    "data = h1.data\n",
    "sns.countplot(data.heart_failure)"
   ]
  },
  {
   "cell_type": "markdown",
   "metadata": {},
   "source": [
    "Describing data for numerical features to identify different statistical values "
   ]
  },
  {
   "cell_type": "code",
   "execution_count": 6,
   "metadata": {},
   "outputs": [
    {
     "data": {
      "text/html": [
       "<div>\n",
       "<style scoped>\n",
       "    .dataframe tbody tr th:only-of-type {\n",
       "        vertical-align: middle;\n",
       "    }\n",
       "\n",
       "    .dataframe tbody tr th {\n",
       "        vertical-align: top;\n",
       "    }\n",
       "\n",
       "    .dataframe thead th {\n",
       "        text-align: right;\n",
       "    }\n",
       "</style>\n",
       "<table border=\"1\" class=\"dataframe\">\n",
       "  <thead>\n",
       "    <tr style=\"text-align: right;\">\n",
       "      <th></th>\n",
       "      <th>age</th>\n",
       "      <th>trestbps</th>\n",
       "      <th>chol</th>\n",
       "      <th>thalach</th>\n",
       "      <th>oldpeak</th>\n",
       "      <th>ca</th>\n",
       "    </tr>\n",
       "  </thead>\n",
       "  <tbody>\n",
       "    <tr>\n",
       "      <th>count</th>\n",
       "      <td>303.000000</td>\n",
       "      <td>303.000000</td>\n",
       "      <td>303.000000</td>\n",
       "      <td>303.000000</td>\n",
       "      <td>303.000000</td>\n",
       "      <td>299.000000</td>\n",
       "    </tr>\n",
       "    <tr>\n",
       "      <th>mean</th>\n",
       "      <td>54.438944</td>\n",
       "      <td>131.689769</td>\n",
       "      <td>246.693069</td>\n",
       "      <td>149.607261</td>\n",
       "      <td>1.039604</td>\n",
       "      <td>0.672241</td>\n",
       "    </tr>\n",
       "    <tr>\n",
       "      <th>std</th>\n",
       "      <td>9.038662</td>\n",
       "      <td>17.599748</td>\n",
       "      <td>51.776918</td>\n",
       "      <td>22.875003</td>\n",
       "      <td>1.161075</td>\n",
       "      <td>0.937438</td>\n",
       "    </tr>\n",
       "    <tr>\n",
       "      <th>min</th>\n",
       "      <td>29.000000</td>\n",
       "      <td>94.000000</td>\n",
       "      <td>126.000000</td>\n",
       "      <td>71.000000</td>\n",
       "      <td>0.000000</td>\n",
       "      <td>0.000000</td>\n",
       "    </tr>\n",
       "    <tr>\n",
       "      <th>25%</th>\n",
       "      <td>48.000000</td>\n",
       "      <td>120.000000</td>\n",
       "      <td>211.000000</td>\n",
       "      <td>133.500000</td>\n",
       "      <td>0.000000</td>\n",
       "      <td>0.000000</td>\n",
       "    </tr>\n",
       "    <tr>\n",
       "      <th>50%</th>\n",
       "      <td>56.000000</td>\n",
       "      <td>130.000000</td>\n",
       "      <td>241.000000</td>\n",
       "      <td>153.000000</td>\n",
       "      <td>0.800000</td>\n",
       "      <td>0.000000</td>\n",
       "    </tr>\n",
       "    <tr>\n",
       "      <th>75%</th>\n",
       "      <td>61.000000</td>\n",
       "      <td>140.000000</td>\n",
       "      <td>275.000000</td>\n",
       "      <td>166.000000</td>\n",
       "      <td>1.600000</td>\n",
       "      <td>1.000000</td>\n",
       "    </tr>\n",
       "    <tr>\n",
       "      <th>max</th>\n",
       "      <td>77.000000</td>\n",
       "      <td>200.000000</td>\n",
       "      <td>564.000000</td>\n",
       "      <td>202.000000</td>\n",
       "      <td>6.200000</td>\n",
       "      <td>3.000000</td>\n",
       "    </tr>\n",
       "  </tbody>\n",
       "</table>\n",
       "</div>"
      ],
      "text/plain": [
       "              age    trestbps        chol     thalach     oldpeak          ca\n",
       "count  303.000000  303.000000  303.000000  303.000000  303.000000  299.000000\n",
       "mean    54.438944  131.689769  246.693069  149.607261    1.039604    0.672241\n",
       "std      9.038662   17.599748   51.776918   22.875003    1.161075    0.937438\n",
       "min     29.000000   94.000000  126.000000   71.000000    0.000000    0.000000\n",
       "25%     48.000000  120.000000  211.000000  133.500000    0.000000    0.000000\n",
       "50%     56.000000  130.000000  241.000000  153.000000    0.800000    0.000000\n",
       "75%     61.000000  140.000000  275.000000  166.000000    1.600000    1.000000\n",
       "max     77.000000  200.000000  564.000000  202.000000    6.200000    3.000000"
      ]
     },
     "execution_count": 6,
     "metadata": {},
     "output_type": "execute_result"
    }
   ],
   "source": [
    "data.describe()"
   ]
  },
  {
   "cell_type": "markdown",
   "metadata": {},
   "source": [
    "##### TASK I #####"
   ]
  },
  {
   "cell_type": "markdown",
   "metadata": {},
   "source": [
    "Removing the rows having missing data"
   ]
  },
  {
   "cell_type": "code",
   "execution_count": 7,
   "metadata": {},
   "outputs": [
    {
     "name": "stdout",
     "output_type": "stream",
     "text": [
      "(303, 14)\n",
      "(297, 14)\n"
     ]
    }
   ],
   "source": [
    "print(h1.data.shape)\n",
    "h1.filter_missing_data()\n",
    "print(h1.data.shape)\n"
   ]
  },
  {
   "cell_type": "markdown",
   "metadata": {},
   "source": [
    "##### TASK II #####"
   ]
  },
  {
   "cell_type": "markdown",
   "metadata": {},
   "source": [
    "- Split Data into feature columns and target vector\n",
    "- One hot encoding categorical variables\n",
    "- Standardize all feature columns with mean 0 and standard deviation of 1"
   ]
  },
  {
   "cell_type": "code",
   "execution_count": 8,
   "metadata": {},
   "outputs": [
    {
     "data": {
      "text/html": [
       "<div>\n",
       "<style scoped>\n",
       "    .dataframe tbody tr th:only-of-type {\n",
       "        vertical-align: middle;\n",
       "    }\n",
       "\n",
       "    .dataframe tbody tr th {\n",
       "        vertical-align: top;\n",
       "    }\n",
       "\n",
       "    .dataframe thead th {\n",
       "        text-align: right;\n",
       "    }\n",
       "</style>\n",
       "<table border=\"1\" class=\"dataframe\">\n",
       "  <thead>\n",
       "    <tr style=\"text-align: right;\">\n",
       "      <th></th>\n",
       "      <th>age</th>\n",
       "      <th>trestbps</th>\n",
       "      <th>chol</th>\n",
       "      <th>thalach</th>\n",
       "      <th>oldpeak</th>\n",
       "      <th>ca</th>\n",
       "      <th>sex_0.0</th>\n",
       "      <th>sex_1.0</th>\n",
       "      <th>cp_1.0</th>\n",
       "      <th>cp_2.0</th>\n",
       "      <th>...</th>\n",
       "      <th>restecg_1.0</th>\n",
       "      <th>restecg_2.0</th>\n",
       "      <th>exang_0.0</th>\n",
       "      <th>exang_1.0</th>\n",
       "      <th>slope_1.0</th>\n",
       "      <th>slope_2.0</th>\n",
       "      <th>slope_3.0</th>\n",
       "      <th>thal_3.0</th>\n",
       "      <th>thal_6.0</th>\n",
       "      <th>thal_7.0</th>\n",
       "    </tr>\n",
       "  </thead>\n",
       "  <tbody>\n",
       "    <tr>\n",
       "      <th>0</th>\n",
       "      <td>0.936181</td>\n",
       "      <td>0.750380</td>\n",
       "      <td>-0.276443</td>\n",
       "      <td>0.017494</td>\n",
       "      <td>1.068965</td>\n",
       "      <td>-0.721976</td>\n",
       "      <td>-0.691095</td>\n",
       "      <td>0.691095</td>\n",
       "      <td>3.451528</td>\n",
       "      <td>-0.444500</td>\n",
       "      <td>...</td>\n",
       "      <td>-0.116841</td>\n",
       "      <td>1.016979</td>\n",
       "      <td>0.696419</td>\n",
       "      <td>-0.696419</td>\n",
       "      <td>-0.937948</td>\n",
       "      <td>-0.925338</td>\n",
       "      <td>3.625308</td>\n",
       "      <td>-1.110443</td>\n",
       "      <td>3.937004</td>\n",
       "      <td>-0.794901</td>\n",
       "    </tr>\n",
       "    <tr>\n",
       "      <th>1</th>\n",
       "      <td>1.378929</td>\n",
       "      <td>1.596266</td>\n",
       "      <td>0.744555</td>\n",
       "      <td>-1.816334</td>\n",
       "      <td>0.381773</td>\n",
       "      <td>2.478425</td>\n",
       "      <td>-0.691095</td>\n",
       "      <td>0.691095</td>\n",
       "      <td>-0.289727</td>\n",
       "      <td>-0.444500</td>\n",
       "      <td>...</td>\n",
       "      <td>-0.116841</td>\n",
       "      <td>1.016979</td>\n",
       "      <td>-1.435916</td>\n",
       "      <td>1.435916</td>\n",
       "      <td>-0.937948</td>\n",
       "      <td>1.080686</td>\n",
       "      <td>-0.275839</td>\n",
       "      <td>0.900542</td>\n",
       "      <td>-0.254000</td>\n",
       "      <td>-0.794901</td>\n",
       "    </tr>\n",
       "    <tr>\n",
       "      <th>2</th>\n",
       "      <td>1.378929</td>\n",
       "      <td>-0.659431</td>\n",
       "      <td>-0.353500</td>\n",
       "      <td>-0.899420</td>\n",
       "      <td>1.326662</td>\n",
       "      <td>1.411625</td>\n",
       "      <td>-0.691095</td>\n",
       "      <td>0.691095</td>\n",
       "      <td>-0.289727</td>\n",
       "      <td>-0.444500</td>\n",
       "      <td>...</td>\n",
       "      <td>-0.116841</td>\n",
       "      <td>1.016979</td>\n",
       "      <td>-1.435916</td>\n",
       "      <td>1.435916</td>\n",
       "      <td>-0.937948</td>\n",
       "      <td>1.080686</td>\n",
       "      <td>-0.275839</td>\n",
       "      <td>-1.110443</td>\n",
       "      <td>-0.254000</td>\n",
       "      <td>1.258018</td>\n",
       "    </tr>\n",
       "    <tr>\n",
       "      <th>3</th>\n",
       "      <td>-1.941680</td>\n",
       "      <td>-0.095506</td>\n",
       "      <td>0.051047</td>\n",
       "      <td>1.633010</td>\n",
       "      <td>2.099753</td>\n",
       "      <td>-0.721976</td>\n",
       "      <td>-0.691095</td>\n",
       "      <td>0.691095</td>\n",
       "      <td>-0.289727</td>\n",
       "      <td>-0.444500</td>\n",
       "      <td>...</td>\n",
       "      <td>-0.116841</td>\n",
       "      <td>-0.983304</td>\n",
       "      <td>0.696419</td>\n",
       "      <td>-0.696419</td>\n",
       "      <td>-0.937948</td>\n",
       "      <td>-0.925338</td>\n",
       "      <td>3.625308</td>\n",
       "      <td>0.900542</td>\n",
       "      <td>-0.254000</td>\n",
       "      <td>-0.794901</td>\n",
       "    </tr>\n",
       "    <tr>\n",
       "      <th>4</th>\n",
       "      <td>-1.498933</td>\n",
       "      <td>-0.095506</td>\n",
       "      <td>-0.835103</td>\n",
       "      <td>0.978071</td>\n",
       "      <td>0.295874</td>\n",
       "      <td>-0.721976</td>\n",
       "      <td>1.446980</td>\n",
       "      <td>-1.446980</td>\n",
       "      <td>-0.289727</td>\n",
       "      <td>2.249717</td>\n",
       "      <td>...</td>\n",
       "      <td>-0.116841</td>\n",
       "      <td>1.016979</td>\n",
       "      <td>0.696419</td>\n",
       "      <td>-0.696419</td>\n",
       "      <td>1.066157</td>\n",
       "      <td>-0.925338</td>\n",
       "      <td>-0.275839</td>\n",
       "      <td>0.900542</td>\n",
       "      <td>-0.254000</td>\n",
       "      <td>-0.794901</td>\n",
       "    </tr>\n",
       "  </tbody>\n",
       "</table>\n",
       "<p>5 rows × 25 columns</p>\n",
       "</div>"
      ],
      "text/plain": [
       "        age  trestbps      chol   thalach   oldpeak        ca   sex_0.0  \\\n",
       "0  0.936181  0.750380 -0.276443  0.017494  1.068965 -0.721976 -0.691095   \n",
       "1  1.378929  1.596266  0.744555 -1.816334  0.381773  2.478425 -0.691095   \n",
       "2  1.378929 -0.659431 -0.353500 -0.899420  1.326662  1.411625 -0.691095   \n",
       "3 -1.941680 -0.095506  0.051047  1.633010  2.099753 -0.721976 -0.691095   \n",
       "4 -1.498933 -0.095506 -0.835103  0.978071  0.295874 -0.721976  1.446980   \n",
       "\n",
       "    sex_1.0    cp_1.0    cp_2.0  ...  restecg_1.0  restecg_2.0  exang_0.0  \\\n",
       "0  0.691095  3.451528 -0.444500  ...    -0.116841     1.016979   0.696419   \n",
       "1  0.691095 -0.289727 -0.444500  ...    -0.116841     1.016979  -1.435916   \n",
       "2  0.691095 -0.289727 -0.444500  ...    -0.116841     1.016979  -1.435916   \n",
       "3  0.691095 -0.289727 -0.444500  ...    -0.116841    -0.983304   0.696419   \n",
       "4 -1.446980 -0.289727  2.249717  ...    -0.116841     1.016979   0.696419   \n",
       "\n",
       "   exang_1.0  slope_1.0  slope_2.0  slope_3.0  thal_3.0  thal_6.0  thal_7.0  \n",
       "0  -0.696419  -0.937948  -0.925338   3.625308 -1.110443  3.937004 -0.794901  \n",
       "1   1.435916  -0.937948   1.080686  -0.275839  0.900542 -0.254000 -0.794901  \n",
       "2   1.435916  -0.937948   1.080686  -0.275839 -1.110443 -0.254000  1.258018  \n",
       "3  -0.696419  -0.937948  -0.925338   3.625308  0.900542 -0.254000 -0.794901  \n",
       "4  -0.696419   1.066157  -0.925338  -0.275839  0.900542 -0.254000 -0.794901  \n",
       "\n",
       "[5 rows x 25 columns]"
      ]
     },
     "execution_count": 8,
     "metadata": {},
     "output_type": "execute_result"
    }
   ],
   "source": [
    "h1.data_split()\n",
    "h1.standardize_data()\n",
    "h1.X.head()"
   ]
  },
  {
   "cell_type": "markdown",
   "metadata": {},
   "source": [
    "#### TASK III ####"
   ]
  },
  {
   "cell_type": "markdown",
   "metadata": {},
   "source": [
    "- Trained the model with Logistic regression Algorithm and 10 folds cross validation"
   ]
  },
  {
   "cell_type": "code",
   "execution_count": 9,
   "metadata": {},
   "outputs": [
    {
     "name": "stdout",
     "output_type": "stream",
     "text": [
      "******************** Logistic Regression *****************\n",
      "########### Mean CV Accuracy ######## --  0.8518390804597702\n",
      "###### Mean CV Specificity ####### --  0.9056179523091286\n",
      "###### Mean CV Sensitivity ####### --  0.7846214896214896\n",
      "########## Mean CV G-Mean ####### --  0.8405412975755369\n",
      "######### Mean CV AUC of ROC curve ######## --  0.9011041352438411\n"
     ]
    }
   ],
   "source": [
    "h1.train_model(model_name= 'LR', n_folds= 10)"
   ]
  },
  {
   "cell_type": "markdown",
   "metadata": {},
   "source": [
    "- Trained the model with SVM Algorithm and 10 folds CV along with Grid search for best hyperparameter selection"
   ]
  },
  {
   "cell_type": "code",
   "execution_count": 10,
   "metadata": {},
   "outputs": [
    {
     "name": "stdout",
     "output_type": "stream",
     "text": [
      "******************** Support Vector Machines *****************\n",
      "########### Mean CV Accuracy ######## --  0.8451724137931036\n",
      "###### Mean CV Specificity ####### --  0.8880584284996049\n",
      "###### Mean CV Sensitivity ####### --  0.7950976800976802\n",
      "########## Mean CV G-Mean ####### --  0.8386162340774626\n",
      "######### Mean CV AUC of ROC curve ######## --  0.8986019356460533\n"
     ]
    }
   ],
   "source": [
    "h1.train_model(model_name='SVM', n_folds=10)"
   ]
  },
  {
   "cell_type": "markdown",
   "metadata": {},
   "source": [
    "#### TASK IV ####"
   ]
  },
  {
   "cell_type": "markdown",
   "metadata": {},
   "source": [
    "Run the model based on sequential feature selection mechanism for both Logistic Regression and SVM"
   ]
  },
  {
   "cell_type": "code",
   "execution_count": 11,
   "metadata": {},
   "outputs": [
    {
     "name": "stdout",
     "output_type": "stream",
     "text": [
      "[ 1  3  4  5  6  7  8 10 11 19 20 22 24]\n",
      "******************** Support Vector Machines *****************\n",
      "########### Mean CV Accuracy ######## --  0.8518390804597702\n",
      "###### Mean CV Specificity ####### --  0.8896457300869065\n",
      "###### Mean CV Sensitivity ####### --  0.8096214896214896\n",
      "########## Mean CV G-Mean ####### --  0.8463581880762705\n",
      "######### Mean CV AUC of ROC curve ######## --  0.9021881688572865\n",
      "******************** Logistic Regression *****************\n",
      "########### Mean CV Accuracy ######## --  0.8551724137931036\n",
      "###### Mean CV Specificity ####### --  0.9007568411980176\n",
      "###### Mean CV Sensitivity ####### --  0.8012881562881564\n",
      "########## Mean CV G-Mean ####### --  0.8472326870100995\n",
      "######### Mean CV AUC of ROC curve ######## --  0.9128235264191146\n"
     ]
    }
   ],
   "source": [
    "h1.feature_selection()"
   ]
  },
  {
   "cell_type": "markdown",
   "metadata": {},
   "source": [
    "#### TASK V ####"
   ]
  },
  {
   "cell_type": "markdown",
   "metadata": {},
   "source": [
    "1. In Part 3 and Part 4 Logistic Regression Performed better than SVM\n",
    "2. SVM and Logistic Regression in part 4 with feature selection of 10 most important features is better than part 3 across all performance metrics."
   ]
  }
 ],
 "metadata": {
  "interpreter": {
   "hash": "fc695fbf489aa4a9c43ffcaad9b6d6e1ef0830ca890c6d50ae0b0e6e225ff361"
  },
  "kernelspec": {
   "display_name": "Python 3.9.7 ('HA')",
   "language": "python",
   "name": "python3"
  },
  "language_info": {
   "codemirror_mode": {
    "name": "ipython",
    "version": 3
   },
   "file_extension": ".py",
   "mimetype": "text/x-python",
   "name": "python",
   "nbconvert_exporter": "python",
   "pygments_lexer": "ipython3",
   "version": "3.9.7"
  },
  "orig_nbformat": 4
 },
 "nbformat": 4,
 "nbformat_minor": 2
}
